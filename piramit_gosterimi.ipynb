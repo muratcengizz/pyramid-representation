{
 "cells": [
  {
   "cell_type": "code",
   "execution_count": 4,
   "id": "93045cba-a689-4306-835b-7f52a19ebb61",
   "metadata": {},
   "outputs": [],
   "source": [
    "import cv2\n",
    "import matplotlib.pyplot as plt"
   ]
  },
  {
   "cell_type": "code",
   "execution_count": 5,
   "id": "e85af827-29a7-4785-bcb7-7b15dca5edf4",
   "metadata": {},
   "outputs": [
    {
     "data": {
      "image/png": "[encoded data removed]",
      "text/plain": [
       "<Figure size 432x288 with 1 Axes>"
      ]
     },
     "metadata": {
      "needs_background": "light"
     },
     "output_type": "display_data"
    }
   ],
   "source": [
    "def image_pyramid(image, scale=1.5, minSize=(224, 224)):\n",
    "    yield image\n",
    "    \n",
    "    while True:\n",
    "        width = int(image.shape[1] / scale)\n",
    "        image = cv2.resize(src=image, dsize=(width, width))\n",
    "        \n",
    "        if image.shape[0] < minSize[1] or image.shape[1] < minSize[0]:\n",
    "            break\n",
    "            \n",
    "        yield image\n",
    "        \n",
    "img = cv2.imread(filename=\"images/husky.jpg\")\n",
    "im = image_pyramid(image=img, minSize=(10, 10))\n",
    "\n",
    "for i, image in enumerate(im):\n",
    "    if i == 8:\n",
    "        plt.imshow(X=image);\n"
   ]
  }
 ],
 "metadata": {
  "kernelspec": {
   "display_name": "Python 3 (ipykernel)",
   "language": "python",
   "name": "python3"
  },
  "language_info": {
   "codemirror_mode": {
    "name": "ipython",
    "version": 3
   },
   "file_extension": ".py",
   "mimetype": "text/x-python",
   "name": "python",
   "nbconvert_exporter": "python",
   "pygments_lexer": "ipython3",
   "version": "3.9.12"
  }
 },
 "nbformat": 4,
 "nbformat_minor": 5
}
